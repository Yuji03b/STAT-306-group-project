{
 "cells": [
  {
   "cell_type": "code",
   "execution_count": 22,
   "id": "4df453c6-f30f-42d7-9e5b-e3244fd083c9",
   "metadata": {
    "tags": []
   },
   "outputs": [
    {
     "name": "stderr",
     "output_type": "stream",
     "text": [
      "── \u001b[1mAttaching core tidyverse packages\u001b[22m ──────────────────────── tidyverse 2.0.0 ──\n",
      "\u001b[32m✔\u001b[39m \u001b[34mdplyr    \u001b[39m 1.1.3     \u001b[32m✔\u001b[39m \u001b[34mreadr    \u001b[39m 2.1.4\n",
      "\u001b[32m✔\u001b[39m \u001b[34mforcats  \u001b[39m 1.0.0     \u001b[32m✔\u001b[39m \u001b[34mstringr  \u001b[39m 1.5.0\n",
      "\u001b[32m✔\u001b[39m \u001b[34mggplot2  \u001b[39m 3.4.3     \u001b[32m✔\u001b[39m \u001b[34mtibble   \u001b[39m 3.2.1\n",
      "\u001b[32m✔\u001b[39m \u001b[34mlubridate\u001b[39m 1.9.3     \u001b[32m✔\u001b[39m \u001b[34mtidyr    \u001b[39m 1.3.0\n",
      "\u001b[32m✔\u001b[39m \u001b[34mpurrr    \u001b[39m 1.0.2     \n",
      "── \u001b[1mConflicts\u001b[22m ────────────────────────────────────────── tidyverse_conflicts() ──\n",
      "\u001b[31m✖\u001b[39m \u001b[34mdplyr\u001b[39m::\u001b[32mfilter()\u001b[39m masks \u001b[34mstats\u001b[39m::filter()\n",
      "\u001b[31m✖\u001b[39m \u001b[34mdplyr\u001b[39m::\u001b[32mlag()\u001b[39m    masks \u001b[34mstats\u001b[39m::lag()\n",
      "\u001b[36mℹ\u001b[39m Use the conflicted package (\u001b[3m\u001b[34m<http://conflicted.r-lib.org/>\u001b[39m\u001b[23m) to force all conflicts to become errors\n",
      "── \u001b[1mAttaching packages\u001b[22m ────────────────────────────────────── tidymodels 1.1.1 ──\n",
      "\n",
      "\u001b[32m✔\u001b[39m \u001b[34mbroom       \u001b[39m 1.0.5     \u001b[32m✔\u001b[39m \u001b[34mrsample     \u001b[39m 1.2.0\n",
      "\u001b[32m✔\u001b[39m \u001b[34mdials       \u001b[39m 1.2.0     \u001b[32m✔\u001b[39m \u001b[34mtune        \u001b[39m 1.1.2\n",
      "\u001b[32m✔\u001b[39m \u001b[34minfer       \u001b[39m 1.0.5     \u001b[32m✔\u001b[39m \u001b[34mworkflows   \u001b[39m 1.1.3\n",
      "\u001b[32m✔\u001b[39m \u001b[34mmodeldata   \u001b[39m 1.2.0     \u001b[32m✔\u001b[39m \u001b[34mworkflowsets\u001b[39m 1.0.1\n",
      "\u001b[32m✔\u001b[39m \u001b[34mparsnip     \u001b[39m 1.1.1     \u001b[32m✔\u001b[39m \u001b[34myardstick   \u001b[39m 1.2.0\n",
      "\u001b[32m✔\u001b[39m \u001b[34mrecipes     \u001b[39m 1.0.8     \n",
      "\n",
      "── \u001b[1mConflicts\u001b[22m ───────────────────────────────────────── tidymodels_conflicts() ──\n",
      "\u001b[31m✖\u001b[39m \u001b[34mscales\u001b[39m::\u001b[32mdiscard()\u001b[39m masks \u001b[34mpurrr\u001b[39m::discard()\n",
      "\u001b[31m✖\u001b[39m \u001b[34mdplyr\u001b[39m::\u001b[32mfilter()\u001b[39m   masks \u001b[34mstats\u001b[39m::filter()\n",
      "\u001b[31m✖\u001b[39m \u001b[34mrecipes\u001b[39m::\u001b[32mfixed()\u001b[39m  masks \u001b[34mstringr\u001b[39m::fixed()\n",
      "\u001b[31m✖\u001b[39m \u001b[34mdplyr\u001b[39m::\u001b[32mlag()\u001b[39m      masks \u001b[34mstats\u001b[39m::lag()\n",
      "\u001b[31m✖\u001b[39m \u001b[34myardstick\u001b[39m::\u001b[32mspec()\u001b[39m masks \u001b[34mreadr\u001b[39m::spec()\n",
      "\u001b[31m✖\u001b[39m \u001b[34mrecipes\u001b[39m::\u001b[32mstep()\u001b[39m   masks \u001b[34mstats\u001b[39m::step()\n",
      "\u001b[34m•\u001b[39m Use suppressPackageStartupMessages() to eliminate package startup messages\n",
      "\n"
     ]
    }
   ],
   "source": [
    "library(tidyverse)\n",
    "library(leaps)\n",
    "library(tidymodels)"
   ]
  },
  {
   "cell_type": "code",
   "execution_count": 20,
   "id": "4a75ee6d-4ea0-4034-923d-23b8cb58b4cf",
   "metadata": {
    "tags": []
   },
   "outputs": [
    {
     "data": {
      "text/html": [
       "<table class=\"dataframe\">\n",
       "<caption>A data.frame: 6 × 11</caption>\n",
       "<thead>\n",
       "\t<tr><th></th><th scope=col>Age</th><th scope=col>Gender</th><th scope=col>Sleep.duration</th><th scope=col>Sleep.efficiency</th><th scope=col>REM.sleep.percentage</th><th scope=col>Deep.sleep.percentage</th><th scope=col>Awakenings</th><th scope=col>Caffeine.consumption</th><th scope=col>Alcohol.consumption</th><th scope=col>Smoking.status</th><th scope=col>Exercise.frequency</th></tr>\n",
       "\t<tr><th></th><th scope=col>&lt;int&gt;</th><th scope=col>&lt;fct&gt;</th><th scope=col>&lt;dbl&gt;</th><th scope=col>&lt;dbl&gt;</th><th scope=col>&lt;int&gt;</th><th scope=col>&lt;int&gt;</th><th scope=col>&lt;dbl&gt;</th><th scope=col>&lt;dbl&gt;</th><th scope=col>&lt;dbl&gt;</th><th scope=col>&lt;fct&gt;</th><th scope=col>&lt;int&gt;</th></tr>\n",
       "</thead>\n",
       "<tbody>\n",
       "\t<tr><th scope=row>1</th><td>65</td><td>Female</td><td>6</td><td>0.88</td><td>18</td><td>70</td><td>0</td><td> 0</td><td>0</td><td>Yes</td><td>3</td></tr>\n",
       "\t<tr><th scope=row>2</th><td>69</td><td>Male  </td><td>7</td><td>0.66</td><td>19</td><td>28</td><td>3</td><td> 0</td><td>3</td><td>Yes</td><td>3</td></tr>\n",
       "\t<tr><th scope=row>3</th><td>40</td><td>Female</td><td>8</td><td>0.89</td><td>20</td><td>70</td><td>1</td><td> 0</td><td>0</td><td>No </td><td>3</td></tr>\n",
       "\t<tr><th scope=row>4</th><td>40</td><td>Female</td><td>6</td><td>0.51</td><td>23</td><td>25</td><td>3</td><td>50</td><td>5</td><td>Yes</td><td>1</td></tr>\n",
       "\t<tr><th scope=row>5</th><td>57</td><td>Male  </td><td>8</td><td>0.76</td><td>27</td><td>55</td><td>3</td><td> 0</td><td>3</td><td>No </td><td>3</td></tr>\n",
       "\t<tr><th scope=row>7</th><td>27</td><td>Female</td><td>6</td><td>0.54</td><td>28</td><td>25</td><td>2</td><td>50</td><td>0</td><td>Yes</td><td>1</td></tr>\n",
       "</tbody>\n",
       "</table>\n"
      ],
      "text/latex": [
       "A data.frame: 6 × 11\n",
       "\\begin{tabular}{r|lllllllllll}\n",
       "  & Age & Gender & Sleep.duration & Sleep.efficiency & REM.sleep.percentage & Deep.sleep.percentage & Awakenings & Caffeine.consumption & Alcohol.consumption & Smoking.status & Exercise.frequency\\\\\n",
       "  & <int> & <fct> & <dbl> & <dbl> & <int> & <int> & <dbl> & <dbl> & <dbl> & <fct> & <int>\\\\\n",
       "\\hline\n",
       "\t1 & 65 & Female & 6 & 0.88 & 18 & 70 & 0 &  0 & 0 & Yes & 3\\\\\n",
       "\t2 & 69 & Male   & 7 & 0.66 & 19 & 28 & 3 &  0 & 3 & Yes & 3\\\\\n",
       "\t3 & 40 & Female & 8 & 0.89 & 20 & 70 & 1 &  0 & 0 & No  & 3\\\\\n",
       "\t4 & 40 & Female & 6 & 0.51 & 23 & 25 & 3 & 50 & 5 & Yes & 1\\\\\n",
       "\t5 & 57 & Male   & 8 & 0.76 & 27 & 55 & 3 &  0 & 3 & No  & 3\\\\\n",
       "\t7 & 27 & Female & 6 & 0.54 & 28 & 25 & 2 & 50 & 0 & Yes & 1\\\\\n",
       "\\end{tabular}\n"
      ],
      "text/markdown": [
       "\n",
       "A data.frame: 6 × 11\n",
       "\n",
       "| <!--/--> | Age &lt;int&gt; | Gender &lt;fct&gt; | Sleep.duration &lt;dbl&gt; | Sleep.efficiency &lt;dbl&gt; | REM.sleep.percentage &lt;int&gt; | Deep.sleep.percentage &lt;int&gt; | Awakenings &lt;dbl&gt; | Caffeine.consumption &lt;dbl&gt; | Alcohol.consumption &lt;dbl&gt; | Smoking.status &lt;fct&gt; | Exercise.frequency &lt;int&gt; |\n",
       "|---|---|---|---|---|---|---|---|---|---|---|---|\n",
       "| 1 | 65 | Female | 6 | 0.88 | 18 | 70 | 0 |  0 | 0 | Yes | 3 |\n",
       "| 2 | 69 | Male   | 7 | 0.66 | 19 | 28 | 3 |  0 | 3 | Yes | 3 |\n",
       "| 3 | 40 | Female | 8 | 0.89 | 20 | 70 | 1 |  0 | 0 | No  | 3 |\n",
       "| 4 | 40 | Female | 6 | 0.51 | 23 | 25 | 3 | 50 | 5 | Yes | 1 |\n",
       "| 5 | 57 | Male   | 8 | 0.76 | 27 | 55 | 3 |  0 | 3 | No  | 3 |\n",
       "| 7 | 27 | Female | 6 | 0.54 | 28 | 25 | 2 | 50 | 0 | Yes | 1 |\n",
       "\n"
      ],
      "text/plain": [
       "  Age Gender Sleep.duration Sleep.efficiency REM.sleep.percentage\n",
       "1 65  Female 6              0.88             18                  \n",
       "2 69  Male   7              0.66             19                  \n",
       "3 40  Female 8              0.89             20                  \n",
       "4 40  Female 6              0.51             23                  \n",
       "5 57  Male   8              0.76             27                  \n",
       "7 27  Female 6              0.54             28                  \n",
       "  Deep.sleep.percentage Awakenings Caffeine.consumption Alcohol.consumption\n",
       "1 70                    0           0                   0                  \n",
       "2 28                    3           0                   3                  \n",
       "3 70                    1           0                   0                  \n",
       "4 25                    3          50                   5                  \n",
       "5 55                    3           0                   3                  \n",
       "7 25                    2          50                   0                  \n",
       "  Smoking.status Exercise.frequency\n",
       "1 Yes            3                 \n",
       "2 Yes            3                 \n",
       "3 No             3                 \n",
       "4 Yes            1                 \n",
       "5 No             3                 \n",
       "7 Yes            1                 "
      ]
     },
     "metadata": {},
     "output_type": "display_data"
    }
   ],
   "source": [
    "#Sleep_Efficiency.csv\n",
    "data = read.csv(\"https://raw.githubusercontent.com/Yuji03b/STAT-306-group-project/main/Sleep_Efficiency.csv\",header=T)\n",
    "\n",
    "\n",
    "data$Exercise.frequency = as.integer(data$Exercise.frequency)\n",
    "\n",
    "# remove bedtime and wake up time\n",
    "dat <- data[, -c(4, 5)]\n",
    "\n",
    "# remove NA\n",
    "dat <- na.omit(dat)\n",
    "\n",
    "# convert to factor\n",
    "dat$Gender = as.factor(dat$Gender)\n",
    "dat$Smoking.status=as.factor(dat$Smoking.status)\n",
    "\n",
    "# remove ID\n",
    "dat <- dat[, -c(1,8)]\n",
    "head(dat)"
   ]
  },
  {
   "cell_type": "code",
   "execution_count": 41,
   "id": "9ec40a9d-6199-4e44-b93b-55e4b97d81a7",
   "metadata": {
    "tags": []
   },
   "outputs": [
    {
     "data": {
      "text/html": [
       "<table class=\"dataframe\">\n",
       "<caption>A tibble: 8 × 6</caption>\n",
       "<thead>\n",
       "\t<tr><th scope=col>n_input_variables</th><th scope=col>RSQ</th><th scope=col>RSS</th><th scope=col>ADJ.R2</th><th scope=col>Cp</th><th scope=col>BIC</th></tr>\n",
       "\t<tr><th scope=col>&lt;int&gt;</th><th scope=col>&lt;dbl&gt;</th><th scope=col>&lt;dbl&gt;</th><th scope=col>&lt;dbl&gt;</th><th scope=col>&lt;dbl&gt;</th><th scope=col>&lt;dbl&gt;</th></tr>\n",
       "</thead>\n",
       "<tbody>\n",
       "\t<tr><td>1</td><td>0.6226586</td><td>2.689344</td><td>0.6216810</td><td>345.751259</td><td>-366.2247</td></tr>\n",
       "\t<tr><td>2</td><td>0.7300297</td><td>1.924101</td><td>0.7286273</td><td>140.103176</td><td>-490.1810</td></tr>\n",
       "\t<tr><td>3</td><td>0.7642764</td><td>1.680021</td><td>0.7624349</td><td> 75.872469</td><td>-536.8530</td></tr>\n",
       "\t<tr><td>4</td><td>0.7877469</td><td>1.512746</td><td>0.7855301</td><td> 32.482334</td><td>-571.5856</td></tr>\n",
       "\t<tr><td>5</td><td>0.7946762</td><td>1.463360</td><td>0.7919887</td><td> 21.081537</td><td>-578.5028</td></tr>\n",
       "\t<tr><td>6</td><td>0.7988358</td><td>1.433714</td><td>0.7956678</td><td> 15.037225</td><td>-580.4828</td></tr>\n",
       "\t<tr><td>7</td><td>0.8026031</td><td>1.406864</td><td>0.7989668</td><td>  9.751538</td><td>-581.8570</td></tr>\n",
       "\t<tr><td>8</td><td>0.8049135</td><td>1.390398</td><td>0.8007956</td><td>  7.283339</td><td>-580.4641</td></tr>\n",
       "</tbody>\n",
       "</table>\n"
      ],
      "text/latex": [
       "A tibble: 8 × 6\n",
       "\\begin{tabular}{llllll}\n",
       " n\\_input\\_variables & RSQ & RSS & ADJ.R2 & Cp & BIC\\\\\n",
       " <int> & <dbl> & <dbl> & <dbl> & <dbl> & <dbl>\\\\\n",
       "\\hline\n",
       "\t 1 & 0.6226586 & 2.689344 & 0.6216810 & 345.751259 & -366.2247\\\\\n",
       "\t 2 & 0.7300297 & 1.924101 & 0.7286273 & 140.103176 & -490.1810\\\\\n",
       "\t 3 & 0.7642764 & 1.680021 & 0.7624349 &  75.872469 & -536.8530\\\\\n",
       "\t 4 & 0.7877469 & 1.512746 & 0.7855301 &  32.482334 & -571.5856\\\\\n",
       "\t 5 & 0.7946762 & 1.463360 & 0.7919887 &  21.081537 & -578.5028\\\\\n",
       "\t 6 & 0.7988358 & 1.433714 & 0.7956678 &  15.037225 & -580.4828\\\\\n",
       "\t 7 & 0.8026031 & 1.406864 & 0.7989668 &   9.751538 & -581.8570\\\\\n",
       "\t 8 & 0.8049135 & 1.390398 & 0.8007956 &   7.283339 & -580.4641\\\\\n",
       "\\end{tabular}\n"
      ],
      "text/markdown": [
       "\n",
       "A tibble: 8 × 6\n",
       "\n",
       "| n_input_variables &lt;int&gt; | RSQ &lt;dbl&gt; | RSS &lt;dbl&gt; | ADJ.R2 &lt;dbl&gt; | Cp &lt;dbl&gt; | BIC &lt;dbl&gt; |\n",
       "|---|---|---|---|---|---|\n",
       "| 1 | 0.6226586 | 2.689344 | 0.6216810 | 345.751259 | -366.2247 |\n",
       "| 2 | 0.7300297 | 1.924101 | 0.7286273 | 140.103176 | -490.1810 |\n",
       "| 3 | 0.7642764 | 1.680021 | 0.7624349 |  75.872469 | -536.8530 |\n",
       "| 4 | 0.7877469 | 1.512746 | 0.7855301 |  32.482334 | -571.5856 |\n",
       "| 5 | 0.7946762 | 1.463360 | 0.7919887 |  21.081537 | -578.5028 |\n",
       "| 6 | 0.7988358 | 1.433714 | 0.7956678 |  15.037225 | -580.4828 |\n",
       "| 7 | 0.8026031 | 1.406864 | 0.7989668 |   9.751538 | -581.8570 |\n",
       "| 8 | 0.8049135 | 1.390398 | 0.8007956 |   7.283339 | -580.4641 |\n",
       "\n"
      ],
      "text/plain": [
       "  n_input_variables RSQ       RSS      ADJ.R2    Cp         BIC      \n",
       "1 1                 0.6226586 2.689344 0.6216810 345.751259 -366.2247\n",
       "2 2                 0.7300297 1.924101 0.7286273 140.103176 -490.1810\n",
       "3 3                 0.7642764 1.680021 0.7624349  75.872469 -536.8530\n",
       "4 4                 0.7877469 1.512746 0.7855301  32.482334 -571.5856\n",
       "5 5                 0.7946762 1.463360 0.7919887  21.081537 -578.5028\n",
       "6 6                 0.7988358 1.433714 0.7956678  15.037225 -580.4828\n",
       "7 7                 0.8026031 1.406864 0.7989668   9.751538 -581.8570\n",
       "8 8                 0.8049135 1.390398 0.8007956   7.283339 -580.4641"
      ]
     },
     "metadata": {},
     "output_type": "display_data"
    }
   ],
   "source": [
    "# forward selection on all features\n",
    "s <- regsubsets(Sleep.efficiency ~ ., data=dat, method=\"forward\")\n",
    "ss <- summary(s)\n",
    "\n",
    "forward_summary_df <- tibble(\n",
    "    n_input_variables = 1:8,\n",
    "    RSQ = ss$rsq,\n",
    "    RSS = ss$rss,\n",
    "    ADJ.R2 = ss$adjr2,\n",
    "    Cp = ss$cp,\n",
    "    BIC = ss$bic)\n",
    "forward_summary_df\n"
   ]
  },
  {
   "cell_type": "code",
   "execution_count": 37,
   "id": "996ee9d9-bf49-44ea-9697-a97695421e03",
   "metadata": {
    "tags": []
   },
   "outputs": [
    {
     "data": {
      "text/plain": [
       "Subset selection object\n",
       "Call: regsubsets.formula(Sleep.efficiency ~ ., data = dat, method = \"forward\")\n",
       "10 Variables  (and intercept)\n",
       "                      Forced in Forced out\n",
       "Age                       FALSE      FALSE\n",
       "GenderMale                FALSE      FALSE\n",
       "Sleep.duration            FALSE      FALSE\n",
       "REM.sleep.percentage      FALSE      FALSE\n",
       "Deep.sleep.percentage     FALSE      FALSE\n",
       "Awakenings                FALSE      FALSE\n",
       "Caffeine.consumption      FALSE      FALSE\n",
       "Alcohol.consumption       FALSE      FALSE\n",
       "Smoking.statusYes         FALSE      FALSE\n",
       "Exercise.frequency        FALSE      FALSE\n",
       "1 subsets of each size up to 8\n",
       "Selection Algorithm: forward\n",
       "         Age GenderMale Sleep.duration REM.sleep.percentage\n",
       "1  ( 1 ) \" \" \" \"        \" \"            \" \"                 \n",
       "2  ( 1 ) \" \" \" \"        \" \"            \" \"                 \n",
       "3  ( 1 ) \" \" \" \"        \" \"            \"*\"                 \n",
       "4  ( 1 ) \" \" \" \"        \" \"            \"*\"                 \n",
       "5  ( 1 ) \"*\" \" \"        \" \"            \"*\"                 \n",
       "6  ( 1 ) \"*\" \" \"        \" \"            \"*\"                 \n",
       "7  ( 1 ) \"*\" \" \"        \" \"            \"*\"                 \n",
       "8  ( 1 ) \"*\" \" \"        \" \"            \"*\"                 \n",
       "         Deep.sleep.percentage Awakenings Caffeine.consumption\n",
       "1  ( 1 ) \"*\"                   \" \"        \" \"                 \n",
       "2  ( 1 ) \"*\"                   \"*\"        \" \"                 \n",
       "3  ( 1 ) \"*\"                   \"*\"        \" \"                 \n",
       "4  ( 1 ) \"*\"                   \"*\"        \" \"                 \n",
       "5  ( 1 ) \"*\"                   \"*\"        \" \"                 \n",
       "6  ( 1 ) \"*\"                   \"*\"        \" \"                 \n",
       "7  ( 1 ) \"*\"                   \"*\"        \" \"                 \n",
       "8  ( 1 ) \"*\"                   \"*\"        \"*\"                 \n",
       "         Alcohol.consumption Smoking.statusYes Exercise.frequency\n",
       "1  ( 1 ) \" \"                 \" \"               \" \"               \n",
       "2  ( 1 ) \" \"                 \" \"               \" \"               \n",
       "3  ( 1 ) \" \"                 \" \"               \" \"               \n",
       "4  ( 1 ) \" \"                 \"*\"               \" \"               \n",
       "5  ( 1 ) \" \"                 \"*\"               \" \"               \n",
       "6  ( 1 ) \"*\"                 \"*\"               \" \"               \n",
       "7  ( 1 ) \"*\"                 \"*\"               \"*\"               \n",
       "8  ( 1 ) \"*\"                 \"*\"               \"*\"               "
      ]
     },
     "metadata": {},
     "output_type": "display_data"
    }
   ],
   "source": [
    "ss"
   ]
  }
 ],
 "metadata": {
  "kernelspec": {
   "display_name": "R",
   "language": "R",
   "name": "ir"
  },
  "language_info": {
   "codemirror_mode": "r",
   "file_extension": ".r",
   "mimetype": "text/x-r-source",
   "name": "R",
   "pygments_lexer": "r",
   "version": "4.2.3"
  }
 },
 "nbformat": 4,
 "nbformat_minor": 5
}
